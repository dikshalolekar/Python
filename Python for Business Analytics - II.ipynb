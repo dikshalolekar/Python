{
 "cells": [
  {
   "cell_type": "markdown",
   "id": "6a336889",
   "metadata": {},
   "source": [
    "# ITERATION"
   ]
  },
  {
   "cell_type": "code",
   "execution_count": 10,
   "id": "6c450874",
   "metadata": {},
   "outputs": [],
   "source": [
    "l = [1,2,3,4,5,6]"
   ]
  },
  {
   "cell_type": "code",
   "execution_count": 11,
   "id": "1e6f1695",
   "metadata": {},
   "outputs": [
    {
     "data": {
      "text/plain": [
       "6"
      ]
     },
     "execution_count": 11,
     "metadata": {},
     "output_type": "execute_result"
    }
   ],
   "source": [
    "len(l)"
   ]
  },
  {
   "cell_type": "code",
   "execution_count": 6,
   "id": "821a323a",
   "metadata": {},
   "outputs": [],
   "source": [
    "#iterate over list of integers\n",
    "l = [1,2,3,4,5,6]"
   ]
  },
  {
   "cell_type": "code",
   "execution_count": 8,
   "id": "9898837b",
   "metadata": {},
   "outputs": [
    {
     "name": "stdout",
     "output_type": "stream",
     "text": [
      "1\n",
      "2\n",
      "3\n",
      "4\n",
      "5\n",
      "6\n"
     ]
    }
   ],
   "source": [
    "list_l = [1,2,3,4,5,6]\n",
    "for i in list_l :\n",
    "    print(i)"
   ]
  },
  {
   "cell_type": "code",
   "execution_count": 9,
   "id": "a7c5cb69",
   "metadata": {},
   "outputs": [
    {
     "name": "stdout",
     "output_type": "stream",
     "text": [
      "H\n",
      "i\n",
      "m\n",
      "a\n",
      "c\n",
      "h\n",
      "a\n",
      "l\n",
      " \n",
      "P\n",
      "r\n",
      "a\n",
      "d\n",
      "e\n",
      "s\n",
      "h\n"
     ]
    }
   ],
   "source": [
    "#iterate over a string\n",
    "string = \"Himachal Pradesh\"\n",
    "for ch in string:\n",
    "    print(ch)"
   ]
  },
  {
   "cell_type": "code",
   "execution_count": 12,
   "id": "7fab751f",
   "metadata": {},
   "outputs": [
    {
     "name": "stdout",
     "output_type": "stream",
     "text": [
      "H,i,m,a,c,h,a,l, ,P,r,a,d,e,s,h,"
     ]
    }
   ],
   "source": [
    "#iterate over a string - modify print using end\n",
    "\n",
    "string = \"Himachal Pradesh\"\n",
    "for ch in string:\n",
    "    print(ch, end = \",\") #default value of end \"\\n\""
   ]
  },
  {
   "cell_type": "code",
   "execution_count": 28,
   "id": "6bb329db",
   "metadata": {},
   "outputs": [
    {
     "name": "stdout",
     "output_type": "stream",
     "text": [
      "1 ['sam', 24]\n",
      "2 ['shan', 25]\n",
      "3 ['cat', 25]\n",
      "4 ['tori', 26]\n",
      "5 ['trina', 27]\n"
     ]
    }
   ],
   "source": [
    "#iterating over adictionary\n",
    "\n",
    "\n",
    "students_data = {1:['sam', 24], 2:['shan', 25], 3:['cat', 25], 4:['tori', 26], 5:['trina', 27]}\n",
    "\n",
    "for key, val in students_data.items():\n",
    "    print(key,val)"
   ]
  },
  {
   "cell_type": "code",
   "execution_count": 30,
   "id": "3903e2e1",
   "metadata": {},
   "outputs": [],
   "source": [
    "#iterate over key of a adictionary\n",
    "\n"
   ]
  },
  {
   "cell_type": "code",
   "execution_count": 31,
   "id": "da1ae311",
   "metadata": {},
   "outputs": [
    {
     "name": "stdout",
     "output_type": "stream",
     "text": [
      "1\n",
      "2\n",
      "3\n",
      "4\n",
      "5\n"
     ]
    }
   ],
   "source": [
    " for key in students_data.keys():\n",
    "    print(key)"
   ]
  },
  {
   "cell_type": "code",
   "execution_count": 34,
   "id": "26a11e76",
   "metadata": {},
   "outputs": [
    {
     "name": "stdout",
     "output_type": "stream",
     "text": [
      "['sam', 24]\n",
      "['shan', 25]\n",
      "['cat', 25]\n",
      "['tori', 26]\n",
      "['trina', 27]\n"
     ]
    }
   ],
   "source": [
    " for values in students_data.values():\n",
    "    print(values)"
   ]
  },
  {
   "cell_type": "code",
   "execution_count": 36,
   "id": "48a16338",
   "metadata": {},
   "outputs": [
    {
     "name": "stdout",
     "output_type": "stream",
     "text": [
      "24\n",
      "<class 'list'>\n",
      "25\n",
      "<class 'list'>\n",
      "25\n",
      "<class 'list'>\n",
      "26\n",
      "<class 'list'>\n",
      "27\n",
      "<class 'list'>\n"
     ]
    }
   ],
   "source": [
    "for values in students_data.values():\n",
    "    print(values[1])\n",
    "    print(type(values))"
   ]
  },
  {
   "cell_type": "markdown",
   "id": "f94e114b",
   "metadata": {},
   "source": [
    "# Range Function"
   ]
  },
  {
   "cell_type": "code",
   "execution_count": 12,
   "id": "0d8b62a4",
   "metadata": {},
   "outputs": [
    {
     "data": {
      "text/plain": [
       "range(1, 101)"
      ]
     },
     "execution_count": 12,
     "metadata": {},
     "output_type": "execute_result"
    }
   ],
   "source": [
    "#generate range of values\n",
    "range(1,101)"
   ]
  },
  {
   "cell_type": "code",
   "execution_count": 14,
   "id": "e09af875",
   "metadata": {},
   "outputs": [
    {
     "name": "stdout",
     "output_type": "stream",
     "text": [
      "1 2 3 4 5 6 7 8 9 10 "
     ]
    }
   ],
   "source": [
    "#iterating over range of values\n",
    "\n",
    "for i in range(1, 11):\n",
    "    print(i, end = \" \")"
   ]
  },
  {
   "cell_type": "code",
   "execution_count": 15,
   "id": "6b5f1d22",
   "metadata": {},
   "outputs": [
    {
     "name": "stdout",
     "output_type": "stream",
     "text": [
      "1 2 3 4 5 6 7 8 9 10 11 12 13 14 15 16 17 18 19 20 21 22 23 24 25 26 27 28 29 30 31 32 33 34 35 36 37 38 39 40 41 42 43 44 45 46 47 48 49 50 51 52 53 54 55 56 57 58 59 60 61 62 63 64 65 66 67 68 69 70 71 72 73 74 75 76 77 78 79 80 81 82 83 84 85 86 87 88 89 90 91 92 93 94 95 96 97 98 99 100 "
     ]
    }
   ],
   "source": [
    "\n",
    "for i in range(1, 101):\n",
    "    print(i, end = \" \")"
   ]
  },
  {
   "cell_type": "code",
   "execution_count": 16,
   "id": "abc3fee0",
   "metadata": {},
   "outputs": [
    {
     "name": "stdout",
     "output_type": "stream",
     "text": [
      "10\n",
      "8\n",
      "6\n",
      "4\n",
      "2\n"
     ]
    }
   ],
   "source": [
    "for i in range(10,1, -2):\n",
    "    print(i)"
   ]
  },
  {
   "cell_type": "code",
   "execution_count": 30,
   "id": "47941f87",
   "metadata": {},
   "outputs": [
    {
     "name": "stdout",
     "output_type": "stream",
     "text": [
      "1\n",
      "3\n",
      "5\n",
      "7\n",
      "9\n"
     ]
    }
   ],
   "source": [
    "for i in range(1,11,2):\n",
    "    print(i)"
   ]
  },
  {
   "cell_type": "code",
   "execution_count": 32,
   "id": "4cff0689",
   "metadata": {},
   "outputs": [
    {
     "name": "stdout",
     "output_type": "stream",
     "text": [
      "10\n",
      "8\n",
      "6\n",
      "4\n",
      "2\n"
     ]
    }
   ],
   "source": [
    "for i in range(10,1,-2):\n",
    "    print(i)"
   ]
  },
  {
   "cell_type": "code",
   "execution_count": 33,
   "id": "a64da6b1",
   "metadata": {},
   "outputs": [
    {
     "name": "stdout",
     "output_type": "stream",
     "text": [
      "10\n",
      "9\n",
      "8\n",
      "7\n",
      "6\n",
      "5\n",
      "4\n",
      "3\n",
      "2\n"
     ]
    }
   ],
   "source": [
    "for i in range(10,1,-1):\n",
    "    print(i)"
   ]
  },
  {
   "cell_type": "code",
   "execution_count": 34,
   "id": "29089bdc",
   "metadata": {},
   "outputs": [
    {
     "name": "stdout",
     "output_type": "stream",
     "text": [
      "quit\n",
      "quit\n"
     ]
    }
   ],
   "source": [
    "ch =\" \"\n",
    "while ch != \"quit\":\n",
    "    ch = input()\n",
    "    print(ch)"
   ]
  },
  {
   "cell_type": "code",
   "execution_count": 37,
   "id": "3720840a",
   "metadata": {},
   "outputs": [
    {
     "name": "stdout",
     "output_type": "stream",
     "text": [
      "3 6 9 12 18 21 "
     ]
    }
   ],
   "source": [
    "x= 0\n",
    "while x <=20:\n",
    "    x += 3\n",
    "    if x % 5 == 0:\n",
    "        continue\n",
    "    print (x, end = \" \")\n"
   ]
  },
  {
   "cell_type": "code",
   "execution_count": 38,
   "id": "c0eb404b",
   "metadata": {},
   "outputs": [
    {
     "data": {
      "text/plain": [
       "[-100,\n",
       " -98,\n",
       " -96,\n",
       " -94,\n",
       " -92,\n",
       " -90,\n",
       " -88,\n",
       " -86,\n",
       " -84,\n",
       " -82,\n",
       " -80,\n",
       " -78,\n",
       " -76,\n",
       " -74,\n",
       " -72,\n",
       " -70,\n",
       " -68,\n",
       " -66,\n",
       " -64,\n",
       " -62,\n",
       " -60,\n",
       " -58,\n",
       " -56,\n",
       " -54,\n",
       " -52,\n",
       " -50,\n",
       " -48,\n",
       " -46,\n",
       " -44,\n",
       " -42,\n",
       " -40,\n",
       " -38,\n",
       " -36,\n",
       " -34,\n",
       " -32,\n",
       " -30,\n",
       " -28,\n",
       " -26,\n",
       " -24,\n",
       " -22,\n",
       " -20,\n",
       " -18,\n",
       " -16,\n",
       " -14,\n",
       " -12,\n",
       " -10,\n",
       " -8,\n",
       " -6,\n",
       " -4,\n",
       " -2]"
      ]
     },
     "execution_count": 38,
     "metadata": {},
     "output_type": "execute_result"
    }
   ],
   "source": [
    "l = []\n",
    "for i in range(-100, 0):\n",
    "    if(i % 2 == 0):\n",
    "        l.append(i)\n",
    "l        "
   ]
  },
  {
   "cell_type": "code",
   "execution_count": 39,
   "id": "368a298f",
   "metadata": {},
   "outputs": [
    {
     "data": {
      "text/plain": [
       "[]"
      ]
     },
     "execution_count": 39,
     "metadata": {},
     "output_type": "execute_result"
    }
   ],
   "source": [
    "list(range(0, -101, 2))"
   ]
  },
  {
   "cell_type": "code",
   "execution_count": 40,
   "id": "8fefaded",
   "metadata": {},
   "outputs": [
    {
     "data": {
      "text/plain": [
       "[-101,\n",
       " -99,\n",
       " -97,\n",
       " -95,\n",
       " -93,\n",
       " -91,\n",
       " -89,\n",
       " -87,\n",
       " -85,\n",
       " -83,\n",
       " -81,\n",
       " -79,\n",
       " -77,\n",
       " -75,\n",
       " -73,\n",
       " -71,\n",
       " -69,\n",
       " -67,\n",
       " -65,\n",
       " -63,\n",
       " -61,\n",
       " -59,\n",
       " -57,\n",
       " -55,\n",
       " -53,\n",
       " -51,\n",
       " -49,\n",
       " -47,\n",
       " -45,\n",
       " -43,\n",
       " -41,\n",
       " -39,\n",
       " -37,\n",
       " -35,\n",
       " -33,\n",
       " -31,\n",
       " -29,\n",
       " -27,\n",
       " -25,\n",
       " -23,\n",
       " -21,\n",
       " -19,\n",
       " -17,\n",
       " -15,\n",
       " -13,\n",
       " -11,\n",
       " -9,\n",
       " -7,\n",
       " -5,\n",
       " -3]"
      ]
     },
     "execution_count": 40,
     "metadata": {},
     "output_type": "execute_result"
    }
   ],
   "source": [
    "list(range(-101,-1, 2))"
   ]
  },
  {
   "cell_type": "code",
   "execution_count": 41,
   "id": "a6207cc6",
   "metadata": {},
   "outputs": [
    {
     "data": {
      "text/plain": [
       "[-100,\n",
       " -98,\n",
       " -96,\n",
       " -94,\n",
       " -92,\n",
       " -90,\n",
       " -88,\n",
       " -86,\n",
       " -84,\n",
       " -82,\n",
       " -80,\n",
       " -78,\n",
       " -76,\n",
       " -74,\n",
       " -72,\n",
       " -70,\n",
       " -68,\n",
       " -66,\n",
       " -64,\n",
       " -62,\n",
       " -60,\n",
       " -58,\n",
       " -56,\n",
       " -54,\n",
       " -52,\n",
       " -50,\n",
       " -48,\n",
       " -46,\n",
       " -44,\n",
       " -42,\n",
       " -40,\n",
       " -38,\n",
       " -36,\n",
       " -34,\n",
       " -32,\n",
       " -30,\n",
       " -28,\n",
       " -26,\n",
       " -24,\n",
       " -22,\n",
       " -20,\n",
       " -18,\n",
       " -16,\n",
       " -14,\n",
       " -12,\n",
       " -10,\n",
       " -8,\n",
       " -6,\n",
       " -4,\n",
       " -2]"
      ]
     },
     "execution_count": 41,
     "metadata": {},
     "output_type": "execute_result"
    }
   ],
   "source": [
    "sorted(set(range(-2, -101, -2)))"
   ]
  },
  {
   "cell_type": "code",
   "execution_count": 43,
   "id": "9c36c5be",
   "metadata": {},
   "outputs": [
    {
     "data": {
      "text/plain": [
       "[7, 6, 7, 5, 5]"
      ]
     },
     "execution_count": 43,
     "metadata": {},
     "output_type": "execute_result"
    }
   ],
   "source": [
    "l1=[\"sinchan\", \"nobida\", \"doremon\", \"oswal\", \"pingu\"]\n",
    "\n",
    "l2=[]\n",
    "\n",
    "for i in l1 :\n",
    "    l2. append(len(i))\n",
    "l2    "
   ]
  },
  {
   "cell_type": "code",
   "execution_count": 45,
   "id": "4a70666c",
   "metadata": {},
   "outputs": [
    {
     "name": "stdout",
     "output_type": "stream",
     "text": [
      "[7, 6, 7, 5, 5]\n"
     ]
    }
   ],
   "source": [
    "l1=[\"sinchan\", \"nobida\", \"doremon\", \"oswal\", \"pingu\"]\n",
    "\n",
    "l2=[len(i) for i in l1]\n",
    "\n",
    "print(l2)"
   ]
  },
  {
   "cell_type": "code",
   "execution_count": 48,
   "id": "4ebafaa4",
   "metadata": {},
   "outputs": [
    {
     "name": "stdout",
     "output_type": "stream",
     "text": [
      "sinchan - 7\n",
      "nobida - 6\n",
      "doremon - 7\n",
      "oswal - 5\n",
      "pingu - 5\n"
     ]
    }
   ],
   "source": [
    "for i,j in zip(l1,l2):\n",
    "\n",
    "    print(i, \"-\", j)"
   ]
  },
  {
   "cell_type": "code",
   "execution_count": 49,
   "id": "82c2ac27",
   "metadata": {},
   "outputs": [],
   "source": [
    "l3=[1,2,3,4,5]"
   ]
  },
  {
   "cell_type": "code",
   "execution_count": 52,
   "id": "a9fb8f78",
   "metadata": {},
   "outputs": [
    {
     "name": "stdout",
     "output_type": "stream",
     "text": [
      "sinchan - 7 - no is: 1\n",
      "nobida - 6 - no is: 2\n",
      "doremon - 7 - no is: 3\n",
      "oswal - 5 - no is: 4\n",
      "pingu - 5 - no is: 5\n"
     ]
    }
   ],
   "source": [
    "for i,j,k in zip(l1,l2,l3):\n",
    "\n",
    "    print(i, \"-\", j, \"-\", \"no is:\",k)"
   ]
  },
  {
   "cell_type": "markdown",
   "id": "5cc39b87",
   "metadata": {},
   "source": [
    "# DICTIONARY COMPREHENSION"
   ]
  },
  {
   "cell_type": "code",
   "execution_count": 53,
   "id": "4af1c894",
   "metadata": {},
   "outputs": [
    {
     "name": "stdout",
     "output_type": "stream",
     "text": [
      "{'sinchan': 7, 'nobida': 6, 'doremon': 7, 'oswal': 5, 'pingu': 5}\n"
     ]
    }
   ],
   "source": [
    "l1=[\"sinchan\", \"nobida\", \"doremon\", \"oswal\", \"pingu\"]\n",
    "#dict = {key1:value1,key2:value2,............. }\n",
    "\n",
    "d={i: len(i) for i in l1}\n",
    "print(d)\n"
   ]
  },
  {
   "cell_type": "code",
   "execution_count": 56,
   "id": "75541748",
   "metadata": {},
   "outputs": [
    {
     "name": "stdout",
     "output_type": "stream",
     "text": [
      "7\n",
      "6\n",
      "7\n",
      "5\n",
      "5\n"
     ]
    }
   ],
   "source": [
    "for dict_values in d.values():\n",
    "    print(dict_values)"
   ]
  },
  {
   "cell_type": "code",
   "execution_count": 57,
   "id": "b78e211d",
   "metadata": {},
   "outputs": [],
   "source": [
    "input_list = [\"sinchan\", \"nobida\", \"doremon\", \"oswal\", \"pingu\"]"
   ]
  },
  {
   "cell_type": "code",
   "execution_count": 59,
   "id": "f84d49be",
   "metadata": {},
   "outputs": [
    {
     "name": "stdout",
     "output_type": "stream",
     "text": [
      "['oswal']\n"
     ]
    }
   ],
   "source": [
    "new_list = []\n",
    "for input_str in input_list:\n",
    "    if input_str[0] in 'aeiou':\n",
    "        new_list.append(input_str)\n",
    "print(new_list)"
   ]
  },
  {
   "cell_type": "code",
   "execution_count": 61,
   "id": "1eb7c9e9",
   "metadata": {},
   "outputs": [],
   "source": [
    "input_list = list(range(1,100))\n",
    "output_dict = {}\n",
    "\n",
    "for val in input_list:\n",
    "    if val % 3 == 0:\n",
    "        output_dict[val] = val**3"
   ]
  },
  {
   "cell_type": "code",
   "execution_count": 62,
   "id": "67b9461f",
   "metadata": {},
   "outputs": [],
   "source": [
    "output_dict = {val: val**3 for val in input_list if val % 3 == 0}"
   ]
  },
  {
   "cell_type": "code",
   "execution_count": 63,
   "id": "6146a354",
   "metadata": {},
   "outputs": [
    {
     "data": {
      "text/plain": [
       "{3: 27,\n",
       " 6: 216,\n",
       " 9: 729,\n",
       " 12: 1728,\n",
       " 15: 3375,\n",
       " 18: 5832,\n",
       " 21: 9261,\n",
       " 24: 13824,\n",
       " 27: 19683,\n",
       " 30: 27000,\n",
       " 33: 35937,\n",
       " 36: 46656,\n",
       " 39: 59319,\n",
       " 42: 74088,\n",
       " 45: 91125,\n",
       " 48: 110592,\n",
       " 51: 132651,\n",
       " 54: 157464,\n",
       " 57: 185193,\n",
       " 60: 216000,\n",
       " 63: 250047,\n",
       " 66: 287496,\n",
       " 69: 328509,\n",
       " 72: 373248,\n",
       " 75: 421875,\n",
       " 78: 474552,\n",
       " 81: 531441,\n",
       " 84: 592704,\n",
       " 87: 658503,\n",
       " 90: 729000,\n",
       " 93: 804357,\n",
       " 96: 884736,\n",
       " 99: 970299}"
      ]
     },
     "execution_count": 63,
     "metadata": {},
     "output_type": "execute_result"
    }
   ],
   "source": [
    "output_dict"
   ]
  },
  {
   "cell_type": "code",
   "execution_count": 64,
   "id": "b1655569",
   "metadata": {},
   "outputs": [
    {
     "name": "stdout",
     "output_type": "stream",
     "text": [
      "['ad', 'ae', 'af', 'bd', 'be', 'bf', 'cd', 'ce', 'cf']\n"
     ]
    }
   ],
   "source": [
    "print ([i+j for i in \"abc\" for j in \"def\"])"
   ]
  },
  {
   "cell_type": "code",
   "execution_count": 66,
   "id": "a3a58204",
   "metadata": {},
   "outputs": [
    {
     "name": "stdout",
     "output_type": "stream",
     "text": [
      "ad\n",
      "bd\n",
      "cd\n",
      "ae\n",
      "be\n",
      "ce\n",
      "af\n",
      "bf\n",
      "cf\n"
     ]
    }
   ],
   "source": [
    "for j in \"def\":\n",
    "    for i in \"abc\":\n",
    "        print(i+j)"
   ]
  },
  {
   "cell_type": "code",
   "execution_count": 65,
   "id": "83f5bb0e",
   "metadata": {},
   "outputs": [
    {
     "name": "stdout",
     "output_type": "stream",
     "text": [
      "{'A': 'aaa', 'B': 'bbb', 'C': 'ccc', 'D': 'ddd'}\n"
     ]
    }
   ],
   "source": [
    "d= {x.upper(): x*3 for x in 'abcd'}\n",
    "print(d)"
   ]
  },
  {
   "cell_type": "code",
   "execution_count": 68,
   "id": "d641a101",
   "metadata": {},
   "outputs": [
    {
     "name": "stdout",
     "output_type": "stream",
     "text": [
      "{'A': 'aaa', 'B': 'bbb', 'C': 'ccc', 'D': 'ddd'}\n",
      "{'A': 'aaa', 'B': 'bbb', 'C': 'ccc', 'D': 'ddd'}\n",
      "{'A': 'aaa', 'B': 'bbb', 'C': 'ccc', 'D': 'ddd'}\n",
      "{'A': 'aaa', 'B': 'bbb', 'C': 'ccc', 'D': 'ddd'}\n"
     ]
    }
   ],
   "source": [
    "for x in 'abcd':\n",
    "    print(d)"
   ]
  },
  {
   "cell_type": "code",
   "execution_count": 69,
   "id": "4848ffbb",
   "metadata": {},
   "outputs": [
    {
     "data": {
      "text/plain": [
       "'aaa'"
      ]
     },
     "execution_count": 69,
     "metadata": {},
     "output_type": "execute_result"
    }
   ],
   "source": [
    "s ='a'\n",
    "s*3"
   ]
  },
  {
   "cell_type": "markdown",
   "id": "cd74363f",
   "metadata": {},
   "source": [
    "# FUNCTIONS"
   ]
  },
  {
   "cell_type": "code",
   "execution_count": 70,
   "id": "e0e6d455",
   "metadata": {},
   "outputs": [],
   "source": [
    "a=15\n",
    "b=10\n",
    "c=a+b"
   ]
  },
  {
   "cell_type": "code",
   "execution_count": 71,
   "id": "81cc4a15",
   "metadata": {},
   "outputs": [
    {
     "data": {
      "text/plain": [
       "25"
      ]
     },
     "execution_count": 71,
     "metadata": {},
     "output_type": "execute_result"
    }
   ],
   "source": [
    "c"
   ]
  },
  {
   "cell_type": "code",
   "execution_count": 72,
   "id": "0148df08",
   "metadata": {},
   "outputs": [],
   "source": [
    "def sum(a,b):\n",
    "    return a+b"
   ]
  },
  {
   "cell_type": "code",
   "execution_count": 73,
   "id": "4981e2e9",
   "metadata": {},
   "outputs": [
    {
     "data": {
      "text/plain": [
       "15"
      ]
     },
     "execution_count": 73,
     "metadata": {},
     "output_type": "execute_result"
    }
   ],
   "source": [
    "sum(5,10)"
   ]
  },
  {
   "cell_type": "code",
   "execution_count": 74,
   "id": "0a098ef1",
   "metadata": {},
   "outputs": [
    {
     "data": {
      "text/plain": [
       "60"
      ]
     },
     "execution_count": 74,
     "metadata": {},
     "output_type": "execute_result"
    }
   ],
   "source": [
    "def sum(a=5,b=55):\n",
    "    c=a+b\n",
    "    return c\n",
    "sum()"
   ]
  },
  {
   "cell_type": "code",
   "execution_count": 80,
   "id": "f0f8b088",
   "metadata": {},
   "outputs": [
    {
     "data": {
      "text/plain": [
       "120"
      ]
     },
     "execution_count": 80,
     "metadata": {},
     "output_type": "execute_result"
    }
   ],
   "source": [
    "def factorial(n):\n",
    "    \n",
    "    fact=1\n",
    "    \n",
    "    for i in range(1, n+1):\n",
    "        fact = fact*i\n",
    "        \n",
    "    return fact\n",
    "factorial(5)"
   ]
  },
  {
   "cell_type": "code",
   "execution_count": 79,
   "id": "8127fa30",
   "metadata": {},
   "outputs": [
    {
     "data": {
      "text/plain": [
       "40320"
      ]
     },
     "execution_count": 79,
     "metadata": {},
     "output_type": "execute_result"
    }
   ],
   "source": [
    "factorial(8)"
   ]
  },
  {
   "cell_type": "markdown",
   "id": "92d5fe44",
   "metadata": {},
   "source": [
    "# DEFAULT ARGUMENT"
   ]
  },
  {
   "cell_type": "code",
   "execution_count": 81,
   "id": "392fa851",
   "metadata": {},
   "outputs": [],
   "source": [
    "def func(name= \"default\", age=25):\n",
    "    print(\"name:\", name)\n",
    "    print(\"age:\", age)"
   ]
  },
  {
   "cell_type": "code",
   "execution_count": 82,
   "id": "7d62f698",
   "metadata": {},
   "outputs": [
    {
     "name": "stdout",
     "output_type": "stream",
     "text": [
      "name: default\n",
      "age: 25\n"
     ]
    }
   ],
   "source": [
    "func()"
   ]
  },
  {
   "cell_type": "markdown",
   "id": "143918df",
   "metadata": {},
   "source": [
    "# LAMBDA FUNCTION"
   ]
  },
  {
   "cell_type": "code",
   "execution_count": 83,
   "id": "c5bf55cf",
   "metadata": {},
   "outputs": [],
   "source": [
    "#traditinal approach\n",
    "\n",
    "def sum(a,b):\n",
    "    return a+b\n",
    "\n",
    "#lambda approach\n",
    "\n",
    "f= lambda a,b : a+b"
   ]
  },
  {
   "cell_type": "code",
   "execution_count": 84,
   "id": "205abbaf",
   "metadata": {},
   "outputs": [
    {
     "data": {
      "text/plain": [
       "15"
      ]
     },
     "execution_count": 84,
     "metadata": {},
     "output_type": "execute_result"
    }
   ],
   "source": [
    "f(5,10)"
   ]
  },
  {
   "cell_type": "code",
   "execution_count": 85,
   "id": "567d8a8a",
   "metadata": {},
   "outputs": [
    {
     "data": {
      "text/plain": [
       "'even'"
      ]
     },
     "execution_count": 85,
     "metadata": {},
     "output_type": "execute_result"
    }
   ],
   "source": [
    "# write a Lambda function to check a number is even or odd\n",
    "\n",
    "f=lambda x: \"even\" if x % 2 == 0 else \"odd\"\n",
    "\n",
    "f(10)"
   ]
  },
  {
   "cell_type": "code",
   "execution_count": 86,
   "id": "0343504b",
   "metadata": {},
   "outputs": [
    {
     "data": {
      "text/plain": [
       "'odd'"
      ]
     },
     "execution_count": 86,
     "metadata": {},
     "output_type": "execute_result"
    }
   ],
   "source": [
    "f(11)"
   ]
  },
  {
   "cell_type": "code",
   "execution_count": 90,
   "id": "f98e8ce4",
   "metadata": {},
   "outputs": [
    {
     "data": {
      "text/plain": [
       "11"
      ]
     },
     "execution_count": 90,
     "metadata": {},
     "output_type": "execute_result"
    }
   ],
   "source": [
    "greater = lambda a, b : a if a > b else b\n",
    "greater(9,11)"
   ]
  },
  {
   "cell_type": "markdown",
   "id": "dfdd92cf",
   "metadata": {},
   "source": [
    "# map - filter - reduce"
   ]
  },
  {
   "cell_type": "code",
   "execution_count": 91,
   "id": "aaeb0323",
   "metadata": {},
   "outputs": [],
   "source": [
    "countries = [\"India\", \"Japan\", \"Italy\", \"France\"]"
   ]
  },
  {
   "cell_type": "code",
   "execution_count": 92,
   "id": "38f67c1d",
   "metadata": {},
   "outputs": [
    {
     "data": {
      "text/plain": [
       "['INDIA', 'JAPAN', 'ITALY', 'FRANCE']"
      ]
     },
     "execution_count": 92,
     "metadata": {},
     "output_type": "execute_result"
    }
   ],
   "source": [
    "list(map(lambda x : x.upper(), countries))"
   ]
  },
  {
   "cell_type": "code",
   "execution_count": 95,
   "id": "b18b0373",
   "metadata": {},
   "outputs": [
    {
     "data": {
      "text/plain": [
       "['India', 'Italy']"
      ]
     },
     "execution_count": 95,
     "metadata": {},
     "output_type": "execute_result"
    }
   ],
   "source": [
    "#filterbthe countries names starting \"I\"\n",
    "\n",
    "list(filter(lambda x : x.startswith(\"I\"), countries))"
   ]
  },
  {
   "cell_type": "code",
   "execution_count": 97,
   "id": "d5f0228b",
   "metadata": {},
   "outputs": [
    {
     "data": {
      "text/plain": [
       "['India', 'Italy']"
      ]
     },
     "execution_count": 97,
     "metadata": {},
     "output_type": "execute_result"
    }
   ],
   "source": [
    "list(filter(lambda x : x[0]=='I', countries))"
   ]
  },
  {
   "cell_type": "code",
   "execution_count": 100,
   "id": "50e5a23c",
   "metadata": {},
   "outputs": [],
   "source": [
    "#reduce the list to concate=ante the countrirs names into a single string variable separated by \"\"\n"
   ]
  },
  {
   "cell_type": "code",
   "execution_count": 99,
   "id": "117406c5",
   "metadata": {},
   "outputs": [
    {
     "data": {
      "text/plain": [
       "'India Japan Italy France'"
      ]
     },
     "execution_count": 99,
     "metadata": {},
     "output_type": "execute_result"
    }
   ],
   "source": [
    "from functools import reduce\n",
    "\n",
    "reduce (lambda x, y : x + \" \" + y, countries)"
   ]
  },
  {
   "cell_type": "markdown",
   "id": "7a3240c4",
   "metadata": {},
   "source": [
    "# Creating Classes and Objects"
   ]
  },
  {
   "cell_type": "code",
   "execution_count": 111,
   "id": "b599b493",
   "metadata": {},
   "outputs": [],
   "source": [
    "class Rectangle :\n",
    "    def __init__(self):\n",
    "        self.lenght =10\n",
    "        self.breadth =5\n",
    "        "
   ]
  },
  {
   "cell_type": "code",
   "execution_count": 116,
   "id": "5c729edc",
   "metadata": {},
   "outputs": [],
   "source": [
    "class Rectangle :\n",
    "    def __init__(self, length, breadth):\n",
    "        self.lenght = length\n",
    "        self.breadth = breadth"
   ]
  },
  {
   "cell_type": "code",
   "execution_count": 119,
   "id": "126b42fb",
   "metadata": {},
   "outputs": [
    {
     "data": {
      "text/plain": [
       "5"
      ]
     },
     "execution_count": 119,
     "metadata": {},
     "output_type": "execute_result"
    }
   ],
   "source": [
    "rect = Rectangle(10, 5)\n",
    "rect.breadth"
   ]
  },
  {
   "cell_type": "code",
   "execution_count": 124,
   "id": "2ebedbb6",
   "metadata": {},
   "outputs": [],
   "source": [
    "class Circle :\n",
    "    pi = 3.14\n",
    "    def __init__(self, redius):\n",
    "        self.radius = radius"
   ]
  },
  {
   "cell_type": "markdown",
   "id": "d5bcdaba",
   "metadata": {},
   "source": [
    "# PANDAS"
   ]
  },
  {
   "cell_type": "code",
   "execution_count": 128,
   "id": "bf2bc77f",
   "metadata": {},
   "outputs": [],
   "source": [
    "import pandas as pd\n",
    "import numpy as np"
   ]
  },
  {
   "cell_type": "code",
   "execution_count": 132,
   "id": "f6991c96",
   "metadata": {},
   "outputs": [
    {
     "ename": "FileNotFoundError",
     "evalue": "[Errno 2] No such file or directory: 'train.csv'",
     "output_type": "error",
     "traceback": [
      "\u001b[1;31m---------------------------------------------------------------------------\u001b[0m",
      "\u001b[1;31mFileNotFoundError\u001b[0m                         Traceback (most recent call last)",
      "\u001b[1;32m<ipython-input-132-c53c24e3b13b>\u001b[0m in \u001b[0;36m<module>\u001b[1;34m\u001b[0m\n\u001b[1;32m----> 1\u001b[1;33m \u001b[0mpd\u001b[0m\u001b[1;33m.\u001b[0m\u001b[0mread_csv\u001b[0m\u001b[1;33m(\u001b[0m\u001b[1;34m'train.csv'\u001b[0m\u001b[1;33m)\u001b[0m\u001b[1;33m[\u001b[0m\u001b[1;34m'passengerId'\u001b[0m\u001b[1;33m]\u001b[0m\u001b[1;33m\u001b[0m\u001b[1;33m\u001b[0m\u001b[0m\n\u001b[0m",
      "\u001b[1;32m~\\anaconda3\\lib\\site-packages\\pandas\\io\\parsers.py\u001b[0m in \u001b[0;36mread_csv\u001b[1;34m(filepath_or_buffer, sep, delimiter, header, names, index_col, usecols, squeeze, prefix, mangle_dupe_cols, dtype, engine, converters, true_values, false_values, skipinitialspace, skiprows, skipfooter, nrows, na_values, keep_default_na, na_filter, verbose, skip_blank_lines, parse_dates, infer_datetime_format, keep_date_col, date_parser, dayfirst, cache_dates, iterator, chunksize, compression, thousands, decimal, lineterminator, quotechar, quoting, doublequote, escapechar, comment, encoding, dialect, error_bad_lines, warn_bad_lines, delim_whitespace, low_memory, memory_map, float_precision, storage_options)\u001b[0m\n\u001b[0;32m    608\u001b[0m     \u001b[0mkwds\u001b[0m\u001b[1;33m.\u001b[0m\u001b[0mupdate\u001b[0m\u001b[1;33m(\u001b[0m\u001b[0mkwds_defaults\u001b[0m\u001b[1;33m)\u001b[0m\u001b[1;33m\u001b[0m\u001b[1;33m\u001b[0m\u001b[0m\n\u001b[0;32m    609\u001b[0m \u001b[1;33m\u001b[0m\u001b[0m\n\u001b[1;32m--> 610\u001b[1;33m     \u001b[1;32mreturn\u001b[0m \u001b[0m_read\u001b[0m\u001b[1;33m(\u001b[0m\u001b[0mfilepath_or_buffer\u001b[0m\u001b[1;33m,\u001b[0m \u001b[0mkwds\u001b[0m\u001b[1;33m)\u001b[0m\u001b[1;33m\u001b[0m\u001b[1;33m\u001b[0m\u001b[0m\n\u001b[0m\u001b[0;32m    611\u001b[0m \u001b[1;33m\u001b[0m\u001b[0m\n\u001b[0;32m    612\u001b[0m \u001b[1;33m\u001b[0m\u001b[0m\n",
      "\u001b[1;32m~\\anaconda3\\lib\\site-packages\\pandas\\io\\parsers.py\u001b[0m in \u001b[0;36m_read\u001b[1;34m(filepath_or_buffer, kwds)\u001b[0m\n\u001b[0;32m    460\u001b[0m \u001b[1;33m\u001b[0m\u001b[0m\n\u001b[0;32m    461\u001b[0m     \u001b[1;31m# Create the parser.\u001b[0m\u001b[1;33m\u001b[0m\u001b[1;33m\u001b[0m\u001b[1;33m\u001b[0m\u001b[0m\n\u001b[1;32m--> 462\u001b[1;33m     \u001b[0mparser\u001b[0m \u001b[1;33m=\u001b[0m \u001b[0mTextFileReader\u001b[0m\u001b[1;33m(\u001b[0m\u001b[0mfilepath_or_buffer\u001b[0m\u001b[1;33m,\u001b[0m \u001b[1;33m**\u001b[0m\u001b[0mkwds\u001b[0m\u001b[1;33m)\u001b[0m\u001b[1;33m\u001b[0m\u001b[1;33m\u001b[0m\u001b[0m\n\u001b[0m\u001b[0;32m    463\u001b[0m \u001b[1;33m\u001b[0m\u001b[0m\n\u001b[0;32m    464\u001b[0m     \u001b[1;32mif\u001b[0m \u001b[0mchunksize\u001b[0m \u001b[1;32mor\u001b[0m \u001b[0miterator\u001b[0m\u001b[1;33m:\u001b[0m\u001b[1;33m\u001b[0m\u001b[1;33m\u001b[0m\u001b[0m\n",
      "\u001b[1;32m~\\anaconda3\\lib\\site-packages\\pandas\\io\\parsers.py\u001b[0m in \u001b[0;36m__init__\u001b[1;34m(self, f, engine, **kwds)\u001b[0m\n\u001b[0;32m    817\u001b[0m             \u001b[0mself\u001b[0m\u001b[1;33m.\u001b[0m\u001b[0moptions\u001b[0m\u001b[1;33m[\u001b[0m\u001b[1;34m\"has_index_names\"\u001b[0m\u001b[1;33m]\u001b[0m \u001b[1;33m=\u001b[0m \u001b[0mkwds\u001b[0m\u001b[1;33m[\u001b[0m\u001b[1;34m\"has_index_names\"\u001b[0m\u001b[1;33m]\u001b[0m\u001b[1;33m\u001b[0m\u001b[1;33m\u001b[0m\u001b[0m\n\u001b[0;32m    818\u001b[0m \u001b[1;33m\u001b[0m\u001b[0m\n\u001b[1;32m--> 819\u001b[1;33m         \u001b[0mself\u001b[0m\u001b[1;33m.\u001b[0m\u001b[0m_engine\u001b[0m \u001b[1;33m=\u001b[0m \u001b[0mself\u001b[0m\u001b[1;33m.\u001b[0m\u001b[0m_make_engine\u001b[0m\u001b[1;33m(\u001b[0m\u001b[0mself\u001b[0m\u001b[1;33m.\u001b[0m\u001b[0mengine\u001b[0m\u001b[1;33m)\u001b[0m\u001b[1;33m\u001b[0m\u001b[1;33m\u001b[0m\u001b[0m\n\u001b[0m\u001b[0;32m    820\u001b[0m \u001b[1;33m\u001b[0m\u001b[0m\n\u001b[0;32m    821\u001b[0m     \u001b[1;32mdef\u001b[0m \u001b[0mclose\u001b[0m\u001b[1;33m(\u001b[0m\u001b[0mself\u001b[0m\u001b[1;33m)\u001b[0m\u001b[1;33m:\u001b[0m\u001b[1;33m\u001b[0m\u001b[1;33m\u001b[0m\u001b[0m\n",
      "\u001b[1;32m~\\anaconda3\\lib\\site-packages\\pandas\\io\\parsers.py\u001b[0m in \u001b[0;36m_make_engine\u001b[1;34m(self, engine)\u001b[0m\n\u001b[0;32m   1048\u001b[0m             )\n\u001b[0;32m   1049\u001b[0m         \u001b[1;31m# error: Too many arguments for \"ParserBase\"\u001b[0m\u001b[1;33m\u001b[0m\u001b[1;33m\u001b[0m\u001b[1;33m\u001b[0m\u001b[0m\n\u001b[1;32m-> 1050\u001b[1;33m         \u001b[1;32mreturn\u001b[0m \u001b[0mmapping\u001b[0m\u001b[1;33m[\u001b[0m\u001b[0mengine\u001b[0m\u001b[1;33m]\u001b[0m\u001b[1;33m(\u001b[0m\u001b[0mself\u001b[0m\u001b[1;33m.\u001b[0m\u001b[0mf\u001b[0m\u001b[1;33m,\u001b[0m \u001b[1;33m**\u001b[0m\u001b[0mself\u001b[0m\u001b[1;33m.\u001b[0m\u001b[0moptions\u001b[0m\u001b[1;33m)\u001b[0m  \u001b[1;31m# type: ignore[call-arg]\u001b[0m\u001b[1;33m\u001b[0m\u001b[1;33m\u001b[0m\u001b[0m\n\u001b[0m\u001b[0;32m   1051\u001b[0m \u001b[1;33m\u001b[0m\u001b[0m\n\u001b[0;32m   1052\u001b[0m     \u001b[1;32mdef\u001b[0m \u001b[0m_failover_to_python\u001b[0m\u001b[1;33m(\u001b[0m\u001b[0mself\u001b[0m\u001b[1;33m)\u001b[0m\u001b[1;33m:\u001b[0m\u001b[1;33m\u001b[0m\u001b[1;33m\u001b[0m\u001b[0m\n",
      "\u001b[1;32m~\\anaconda3\\lib\\site-packages\\pandas\\io\\parsers.py\u001b[0m in \u001b[0;36m__init__\u001b[1;34m(self, src, **kwds)\u001b[0m\n\u001b[0;32m   1865\u001b[0m \u001b[1;33m\u001b[0m\u001b[0m\n\u001b[0;32m   1866\u001b[0m         \u001b[1;31m# open handles\u001b[0m\u001b[1;33m\u001b[0m\u001b[1;33m\u001b[0m\u001b[1;33m\u001b[0m\u001b[0m\n\u001b[1;32m-> 1867\u001b[1;33m         \u001b[0mself\u001b[0m\u001b[1;33m.\u001b[0m\u001b[0m_open_handles\u001b[0m\u001b[1;33m(\u001b[0m\u001b[0msrc\u001b[0m\u001b[1;33m,\u001b[0m \u001b[0mkwds\u001b[0m\u001b[1;33m)\u001b[0m\u001b[1;33m\u001b[0m\u001b[1;33m\u001b[0m\u001b[0m\n\u001b[0m\u001b[0;32m   1868\u001b[0m         \u001b[1;32massert\u001b[0m \u001b[0mself\u001b[0m\u001b[1;33m.\u001b[0m\u001b[0mhandles\u001b[0m \u001b[1;32mis\u001b[0m \u001b[1;32mnot\u001b[0m \u001b[1;32mNone\u001b[0m\u001b[1;33m\u001b[0m\u001b[1;33m\u001b[0m\u001b[0m\n\u001b[0;32m   1869\u001b[0m         \u001b[1;32mfor\u001b[0m \u001b[0mkey\u001b[0m \u001b[1;32min\u001b[0m \u001b[1;33m(\u001b[0m\u001b[1;34m\"storage_options\"\u001b[0m\u001b[1;33m,\u001b[0m \u001b[1;34m\"encoding\"\u001b[0m\u001b[1;33m,\u001b[0m \u001b[1;34m\"memory_map\"\u001b[0m\u001b[1;33m,\u001b[0m \u001b[1;34m\"compression\"\u001b[0m\u001b[1;33m)\u001b[0m\u001b[1;33m:\u001b[0m\u001b[1;33m\u001b[0m\u001b[1;33m\u001b[0m\u001b[0m\n",
      "\u001b[1;32m~\\anaconda3\\lib\\site-packages\\pandas\\io\\parsers.py\u001b[0m in \u001b[0;36m_open_handles\u001b[1;34m(self, src, kwds)\u001b[0m\n\u001b[0;32m   1360\u001b[0m         \u001b[0mLet\u001b[0m \u001b[0mthe\u001b[0m \u001b[0mreaders\u001b[0m \u001b[0mopen\u001b[0m \u001b[0mIOHanldes\u001b[0m \u001b[0mafter\u001b[0m \u001b[0mthey\u001b[0m \u001b[0mare\u001b[0m \u001b[0mdone\u001b[0m \u001b[1;32mwith\u001b[0m \u001b[0mtheir\u001b[0m \u001b[0mpotential\u001b[0m \u001b[0mraises\u001b[0m\u001b[1;33m.\u001b[0m\u001b[1;33m\u001b[0m\u001b[1;33m\u001b[0m\u001b[0m\n\u001b[0;32m   1361\u001b[0m         \"\"\"\n\u001b[1;32m-> 1362\u001b[1;33m         self.handles = get_handle(\n\u001b[0m\u001b[0;32m   1363\u001b[0m             \u001b[0msrc\u001b[0m\u001b[1;33m,\u001b[0m\u001b[1;33m\u001b[0m\u001b[1;33m\u001b[0m\u001b[0m\n\u001b[0;32m   1364\u001b[0m             \u001b[1;34m\"r\"\u001b[0m\u001b[1;33m,\u001b[0m\u001b[1;33m\u001b[0m\u001b[1;33m\u001b[0m\u001b[0m\n",
      "\u001b[1;32m~\\anaconda3\\lib\\site-packages\\pandas\\io\\common.py\u001b[0m in \u001b[0;36mget_handle\u001b[1;34m(path_or_buf, mode, encoding, compression, memory_map, is_text, errors, storage_options)\u001b[0m\n\u001b[0;32m    640\u001b[0m                 \u001b[0merrors\u001b[0m \u001b[1;33m=\u001b[0m \u001b[1;34m\"replace\"\u001b[0m\u001b[1;33m\u001b[0m\u001b[1;33m\u001b[0m\u001b[0m\n\u001b[0;32m    641\u001b[0m             \u001b[1;31m# Encoding\u001b[0m\u001b[1;33m\u001b[0m\u001b[1;33m\u001b[0m\u001b[1;33m\u001b[0m\u001b[0m\n\u001b[1;32m--> 642\u001b[1;33m             handle = open(\n\u001b[0m\u001b[0;32m    643\u001b[0m                 \u001b[0mhandle\u001b[0m\u001b[1;33m,\u001b[0m\u001b[1;33m\u001b[0m\u001b[1;33m\u001b[0m\u001b[0m\n\u001b[0;32m    644\u001b[0m                 \u001b[0mioargs\u001b[0m\u001b[1;33m.\u001b[0m\u001b[0mmode\u001b[0m\u001b[1;33m,\u001b[0m\u001b[1;33m\u001b[0m\u001b[1;33m\u001b[0m\u001b[0m\n",
      "\u001b[1;31mFileNotFoundError\u001b[0m: [Errno 2] No such file or directory: 'train.csv'"
     ]
    }
   ],
   "source": [
    "pd.read_csv('train.csv')['passengerId']"
   ]
  },
  {
   "cell_type": "code",
   "execution_count": 133,
   "id": "cf9fde10",
   "metadata": {},
   "outputs": [],
   "source": [
    "data_dict = {\"Name\":['A','B','C','D'], \"Marks\":[1,2,3,4]}"
   ]
  },
  {
   "cell_type": "code",
   "execution_count": 137,
   "id": "792506cc",
   "metadata": {},
   "outputs": [],
   "source": [
    "pd.DataFrame(np.random.rand(2,3)).columns =['a','B','C']"
   ]
  },
  {
   "cell_type": "code",
   "execution_count": 140,
   "id": "6122c576",
   "metadata": {},
   "outputs": [],
   "source": [
    "rand_df = pd.DataFrame(np.random.rand(2,3))"
   ]
  },
  {
   "cell_type": "code",
   "execution_count": 141,
   "id": "03a7d2dc",
   "metadata": {},
   "outputs": [],
   "source": [
    "rand_df.columns = ['a','B','C']"
   ]
  },
  {
   "cell_type": "code",
   "execution_count": 142,
   "id": "39878407",
   "metadata": {},
   "outputs": [],
   "source": [
    "rand_df.index = ['11','12']"
   ]
  },
  {
   "cell_type": "code",
   "execution_count": 143,
   "id": "76934ee2",
   "metadata": {},
   "outputs": [
    {
     "data": {
      "text/html": [
       "<div>\n",
       "<style scoped>\n",
       "    .dataframe tbody tr th:only-of-type {\n",
       "        vertical-align: middle;\n",
       "    }\n",
       "\n",
       "    .dataframe tbody tr th {\n",
       "        vertical-align: top;\n",
       "    }\n",
       "\n",
       "    .dataframe thead th {\n",
       "        text-align: right;\n",
       "    }\n",
       "</style>\n",
       "<table border=\"1\" class=\"dataframe\">\n",
       "  <thead>\n",
       "    <tr style=\"text-align: right;\">\n",
       "      <th></th>\n",
       "      <th>a</th>\n",
       "      <th>B</th>\n",
       "      <th>C</th>\n",
       "    </tr>\n",
       "  </thead>\n",
       "  <tbody>\n",
       "    <tr>\n",
       "      <th>11</th>\n",
       "      <td>0.059182</td>\n",
       "      <td>0.697324</td>\n",
       "      <td>0.046219</td>\n",
       "    </tr>\n",
       "    <tr>\n",
       "      <th>12</th>\n",
       "      <td>0.518597</td>\n",
       "      <td>0.638355</td>\n",
       "      <td>0.263930</td>\n",
       "    </tr>\n",
       "  </tbody>\n",
       "</table>\n",
       "</div>"
      ],
      "text/plain": [
       "           a         B         C\n",
       "11  0.059182  0.697324  0.046219\n",
       "12  0.518597  0.638355  0.263930"
      ]
     },
     "execution_count": 143,
     "metadata": {},
     "output_type": "execute_result"
    }
   ],
   "source": [
    "rand_df"
   ]
  },
  {
   "cell_type": "code",
   "execution_count": 144,
   "id": "81134419",
   "metadata": {},
   "outputs": [],
   "source": [
    "random_df = pd.DataFrame(np.random.rand(34,5),index = np.arange(34),columns = np. arange(5))"
   ]
  },
  {
   "cell_type": "code",
   "execution_count": 146,
   "id": "5e7a645e",
   "metadata": {},
   "outputs": [
    {
     "data": {
      "text/html": [
       "<div>\n",
       "<style scoped>\n",
       "    .dataframe tbody tr th:only-of-type {\n",
       "        vertical-align: middle;\n",
       "    }\n",
       "\n",
       "    .dataframe tbody tr th {\n",
       "        vertical-align: top;\n",
       "    }\n",
       "\n",
       "    .dataframe thead th {\n",
       "        text-align: right;\n",
       "    }\n",
       "</style>\n",
       "<table border=\"1\" class=\"dataframe\">\n",
       "  <thead>\n",
       "    <tr style=\"text-align: right;\">\n",
       "      <th></th>\n",
       "      <th>0</th>\n",
       "      <th>1</th>\n",
       "      <th>2</th>\n",
       "      <th>3</th>\n",
       "      <th>4</th>\n",
       "    </tr>\n",
       "  </thead>\n",
       "  <tbody>\n",
       "    <tr>\n",
       "      <th>24</th>\n",
       "      <td>0.231874</td>\n",
       "      <td>0.792857</td>\n",
       "      <td>0.716202</td>\n",
       "      <td>0.193750</td>\n",
       "      <td>0.109004</td>\n",
       "    </tr>\n",
       "    <tr>\n",
       "      <th>25</th>\n",
       "      <td>0.547800</td>\n",
       "      <td>0.018985</td>\n",
       "      <td>0.470335</td>\n",
       "      <td>0.876979</td>\n",
       "      <td>0.027352</td>\n",
       "    </tr>\n",
       "    <tr>\n",
       "      <th>26</th>\n",
       "      <td>0.844714</td>\n",
       "      <td>0.332575</td>\n",
       "      <td>0.868401</td>\n",
       "      <td>0.883607</td>\n",
       "      <td>0.901345</td>\n",
       "    </tr>\n",
       "    <tr>\n",
       "      <th>27</th>\n",
       "      <td>0.675896</td>\n",
       "      <td>0.149076</td>\n",
       "      <td>0.702126</td>\n",
       "      <td>0.678592</td>\n",
       "      <td>0.957421</td>\n",
       "    </tr>\n",
       "    <tr>\n",
       "      <th>28</th>\n",
       "      <td>0.777290</td>\n",
       "      <td>0.578937</td>\n",
       "      <td>0.167145</td>\n",
       "      <td>0.263346</td>\n",
       "      <td>0.214920</td>\n",
       "    </tr>\n",
       "    <tr>\n",
       "      <th>29</th>\n",
       "      <td>0.623160</td>\n",
       "      <td>0.003891</td>\n",
       "      <td>0.136815</td>\n",
       "      <td>0.989354</td>\n",
       "      <td>0.095379</td>\n",
       "    </tr>\n",
       "    <tr>\n",
       "      <th>30</th>\n",
       "      <td>0.501044</td>\n",
       "      <td>0.420851</td>\n",
       "      <td>0.326529</td>\n",
       "      <td>0.601144</td>\n",
       "      <td>0.181444</td>\n",
       "    </tr>\n",
       "    <tr>\n",
       "      <th>31</th>\n",
       "      <td>0.391504</td>\n",
       "      <td>0.884237</td>\n",
       "      <td>0.827835</td>\n",
       "      <td>0.679315</td>\n",
       "      <td>0.957426</td>\n",
       "    </tr>\n",
       "    <tr>\n",
       "      <th>32</th>\n",
       "      <td>0.328970</td>\n",
       "      <td>0.632194</td>\n",
       "      <td>0.697039</td>\n",
       "      <td>0.681094</td>\n",
       "      <td>0.092819</td>\n",
       "    </tr>\n",
       "    <tr>\n",
       "      <th>33</th>\n",
       "      <td>0.116050</td>\n",
       "      <td>0.610023</td>\n",
       "      <td>0.061767</td>\n",
       "      <td>0.066706</td>\n",
       "      <td>0.178428</td>\n",
       "    </tr>\n",
       "  </tbody>\n",
       "</table>\n",
       "</div>"
      ],
      "text/plain": [
       "           0         1         2         3         4\n",
       "24  0.231874  0.792857  0.716202  0.193750  0.109004\n",
       "25  0.547800  0.018985  0.470335  0.876979  0.027352\n",
       "26  0.844714  0.332575  0.868401  0.883607  0.901345\n",
       "27  0.675896  0.149076  0.702126  0.678592  0.957421\n",
       "28  0.777290  0.578937  0.167145  0.263346  0.214920\n",
       "29  0.623160  0.003891  0.136815  0.989354  0.095379\n",
       "30  0.501044  0.420851  0.326529  0.601144  0.181444\n",
       "31  0.391504  0.884237  0.827835  0.679315  0.957426\n",
       "32  0.328970  0.632194  0.697039  0.681094  0.092819\n",
       "33  0.116050  0.610023  0.061767  0.066706  0.178428"
      ]
     },
     "execution_count": 146,
     "metadata": {},
     "output_type": "execute_result"
    }
   ],
   "source": [
    "random_df.tail(10)"
   ]
  },
  {
   "cell_type": "code",
   "execution_count": 147,
   "id": "0a7dff17",
   "metadata": {},
   "outputs": [
    {
     "data": {
      "text/html": [
       "<div>\n",
       "<style scoped>\n",
       "    .dataframe tbody tr th:only-of-type {\n",
       "        vertical-align: middle;\n",
       "    }\n",
       "\n",
       "    .dataframe tbody tr th {\n",
       "        vertical-align: top;\n",
       "    }\n",
       "\n",
       "    .dataframe thead th {\n",
       "        text-align: right;\n",
       "    }\n",
       "</style>\n",
       "<table border=\"1\" class=\"dataframe\">\n",
       "  <thead>\n",
       "    <tr style=\"text-align: right;\">\n",
       "      <th></th>\n",
       "      <th>0</th>\n",
       "      <th>1</th>\n",
       "      <th>2</th>\n",
       "      <th>3</th>\n",
       "      <th>4</th>\n",
       "      <th>5</th>\n",
       "      <th>6</th>\n",
       "      <th>7</th>\n",
       "      <th>8</th>\n",
       "      <th>9</th>\n",
       "      <th>...</th>\n",
       "      <th>24</th>\n",
       "      <th>25</th>\n",
       "      <th>26</th>\n",
       "      <th>27</th>\n",
       "      <th>28</th>\n",
       "      <th>29</th>\n",
       "      <th>30</th>\n",
       "      <th>31</th>\n",
       "      <th>32</th>\n",
       "      <th>33</th>\n",
       "    </tr>\n",
       "  </thead>\n",
       "  <tbody>\n",
       "    <tr>\n",
       "      <th>0</th>\n",
       "      <td>0.699768</td>\n",
       "      <td>0.489687</td>\n",
       "      <td>0.237829</td>\n",
       "      <td>0.513053</td>\n",
       "      <td>0.410567</td>\n",
       "      <td>0.840483</td>\n",
       "      <td>0.000304</td>\n",
       "      <td>0.783645</td>\n",
       "      <td>0.554320</td>\n",
       "      <td>0.655986</td>\n",
       "      <td>...</td>\n",
       "      <td>0.231874</td>\n",
       "      <td>0.547800</td>\n",
       "      <td>0.844714</td>\n",
       "      <td>0.675896</td>\n",
       "      <td>0.777290</td>\n",
       "      <td>0.623160</td>\n",
       "      <td>0.501044</td>\n",
       "      <td>0.391504</td>\n",
       "      <td>0.328970</td>\n",
       "      <td>0.116050</td>\n",
       "    </tr>\n",
       "    <tr>\n",
       "      <th>1</th>\n",
       "      <td>0.382176</td>\n",
       "      <td>0.716263</td>\n",
       "      <td>0.643957</td>\n",
       "      <td>0.396004</td>\n",
       "      <td>0.422924</td>\n",
       "      <td>0.722443</td>\n",
       "      <td>0.041861</td>\n",
       "      <td>0.831917</td>\n",
       "      <td>0.825650</td>\n",
       "      <td>0.555030</td>\n",
       "      <td>...</td>\n",
       "      <td>0.792857</td>\n",
       "      <td>0.018985</td>\n",
       "      <td>0.332575</td>\n",
       "      <td>0.149076</td>\n",
       "      <td>0.578937</td>\n",
       "      <td>0.003891</td>\n",
       "      <td>0.420851</td>\n",
       "      <td>0.884237</td>\n",
       "      <td>0.632194</td>\n",
       "      <td>0.610023</td>\n",
       "    </tr>\n",
       "    <tr>\n",
       "      <th>2</th>\n",
       "      <td>0.416435</td>\n",
       "      <td>0.555075</td>\n",
       "      <td>0.656876</td>\n",
       "      <td>0.125597</td>\n",
       "      <td>0.697424</td>\n",
       "      <td>0.238997</td>\n",
       "      <td>0.386897</td>\n",
       "      <td>0.001666</td>\n",
       "      <td>0.784875</td>\n",
       "      <td>0.576323</td>\n",
       "      <td>...</td>\n",
       "      <td>0.716202</td>\n",
       "      <td>0.470335</td>\n",
       "      <td>0.868401</td>\n",
       "      <td>0.702126</td>\n",
       "      <td>0.167145</td>\n",
       "      <td>0.136815</td>\n",
       "      <td>0.326529</td>\n",
       "      <td>0.827835</td>\n",
       "      <td>0.697039</td>\n",
       "      <td>0.061767</td>\n",
       "    </tr>\n",
       "    <tr>\n",
       "      <th>3</th>\n",
       "      <td>0.385411</td>\n",
       "      <td>0.580345</td>\n",
       "      <td>0.416307</td>\n",
       "      <td>0.501463</td>\n",
       "      <td>0.564634</td>\n",
       "      <td>0.323862</td>\n",
       "      <td>0.955839</td>\n",
       "      <td>0.513157</td>\n",
       "      <td>0.328719</td>\n",
       "      <td>0.716500</td>\n",
       "      <td>...</td>\n",
       "      <td>0.193750</td>\n",
       "      <td>0.876979</td>\n",
       "      <td>0.883607</td>\n",
       "      <td>0.678592</td>\n",
       "      <td>0.263346</td>\n",
       "      <td>0.989354</td>\n",
       "      <td>0.601144</td>\n",
       "      <td>0.679315</td>\n",
       "      <td>0.681094</td>\n",
       "      <td>0.066706</td>\n",
       "    </tr>\n",
       "    <tr>\n",
       "      <th>4</th>\n",
       "      <td>0.511607</td>\n",
       "      <td>0.237824</td>\n",
       "      <td>0.050364</td>\n",
       "      <td>0.603623</td>\n",
       "      <td>0.146348</td>\n",
       "      <td>0.267311</td>\n",
       "      <td>0.928377</td>\n",
       "      <td>0.000698</td>\n",
       "      <td>0.299926</td>\n",
       "      <td>0.032025</td>\n",
       "      <td>...</td>\n",
       "      <td>0.109004</td>\n",
       "      <td>0.027352</td>\n",
       "      <td>0.901345</td>\n",
       "      <td>0.957421</td>\n",
       "      <td>0.214920</td>\n",
       "      <td>0.095379</td>\n",
       "      <td>0.181444</td>\n",
       "      <td>0.957426</td>\n",
       "      <td>0.092819</td>\n",
       "      <td>0.178428</td>\n",
       "    </tr>\n",
       "  </tbody>\n",
       "</table>\n",
       "<p>5 rows × 34 columns</p>\n",
       "</div>"
      ],
      "text/plain": [
       "         0         1         2         3         4         5         6   \\\n",
       "0  0.699768  0.489687  0.237829  0.513053  0.410567  0.840483  0.000304   \n",
       "1  0.382176  0.716263  0.643957  0.396004  0.422924  0.722443  0.041861   \n",
       "2  0.416435  0.555075  0.656876  0.125597  0.697424  0.238997  0.386897   \n",
       "3  0.385411  0.580345  0.416307  0.501463  0.564634  0.323862  0.955839   \n",
       "4  0.511607  0.237824  0.050364  0.603623  0.146348  0.267311  0.928377   \n",
       "\n",
       "         7         8         9   ...        24        25        26        27  \\\n",
       "0  0.783645  0.554320  0.655986  ...  0.231874  0.547800  0.844714  0.675896   \n",
       "1  0.831917  0.825650  0.555030  ...  0.792857  0.018985  0.332575  0.149076   \n",
       "2  0.001666  0.784875  0.576323  ...  0.716202  0.470335  0.868401  0.702126   \n",
       "3  0.513157  0.328719  0.716500  ...  0.193750  0.876979  0.883607  0.678592   \n",
       "4  0.000698  0.299926  0.032025  ...  0.109004  0.027352  0.901345  0.957421   \n",
       "\n",
       "         28        29        30        31        32        33  \n",
       "0  0.777290  0.623160  0.501044  0.391504  0.328970  0.116050  \n",
       "1  0.578937  0.003891  0.420851  0.884237  0.632194  0.610023  \n",
       "2  0.167145  0.136815  0.326529  0.827835  0.697039  0.061767  \n",
       "3  0.263346  0.989354  0.601144  0.679315  0.681094  0.066706  \n",
       "4  0.214920  0.095379  0.181444  0.957426  0.092819  0.178428  \n",
       "\n",
       "[5 rows x 34 columns]"
      ]
     },
     "execution_count": 147,
     "metadata": {},
     "output_type": "execute_result"
    }
   ],
   "source": [
    "random_df.T"
   ]
  },
  {
   "cell_type": "code",
   "execution_count": 153,
   "id": "6a4d8daa",
   "metadata": {},
   "outputs": [
    {
     "data": {
      "text/html": [
       "<div>\n",
       "<style scoped>\n",
       "    .dataframe tbody tr th:only-of-type {\n",
       "        vertical-align: middle;\n",
       "    }\n",
       "\n",
       "    .dataframe tbody tr th {\n",
       "        vertical-align: top;\n",
       "    }\n",
       "\n",
       "    .dataframe thead th {\n",
       "        text-align: right;\n",
       "    }\n",
       "</style>\n",
       "<table border=\"1\" class=\"dataframe\">\n",
       "  <thead>\n",
       "    <tr style=\"text-align: right;\">\n",
       "      <th></th>\n",
       "      <th>0</th>\n",
       "      <th>1</th>\n",
       "      <th>2</th>\n",
       "      <th>3</th>\n",
       "      <th>4</th>\n",
       "    </tr>\n",
       "  </thead>\n",
       "  <tbody>\n",
       "    <tr>\n",
       "      <th>0</th>\n",
       "      <td>1345.000000</td>\n",
       "      <td>0.382176</td>\n",
       "      <td>0.416435</td>\n",
       "      <td>0.385411</td>\n",
       "      <td>0.511607</td>\n",
       "    </tr>\n",
       "    <tr>\n",
       "      <th>1</th>\n",
       "      <td>0.489687</td>\n",
       "      <td>0.716263</td>\n",
       "      <td>0.555075</td>\n",
       "      <td>0.580345</td>\n",
       "      <td>0.237824</td>\n",
       "    </tr>\n",
       "    <tr>\n",
       "      <th>2</th>\n",
       "      <td>0.237829</td>\n",
       "      <td>0.643957</td>\n",
       "      <td>0.656876</td>\n",
       "      <td>0.416307</td>\n",
       "      <td>0.050364</td>\n",
       "    </tr>\n",
       "    <tr>\n",
       "      <th>3</th>\n",
       "      <td>0.513053</td>\n",
       "      <td>0.396004</td>\n",
       "      <td>0.125597</td>\n",
       "      <td>0.501463</td>\n",
       "      <td>0.603623</td>\n",
       "    </tr>\n",
       "    <tr>\n",
       "      <th>4</th>\n",
       "      <td>0.410567</td>\n",
       "      <td>0.422924</td>\n",
       "      <td>0.697424</td>\n",
       "      <td>0.564634</td>\n",
       "      <td>0.146348</td>\n",
       "    </tr>\n",
       "    <tr>\n",
       "      <th>5</th>\n",
       "      <td>0.840483</td>\n",
       "      <td>0.722443</td>\n",
       "      <td>0.238997</td>\n",
       "      <td>0.323862</td>\n",
       "      <td>0.267311</td>\n",
       "    </tr>\n",
       "    <tr>\n",
       "      <th>6</th>\n",
       "      <td>0.000304</td>\n",
       "      <td>0.041861</td>\n",
       "      <td>0.386897</td>\n",
       "      <td>0.955839</td>\n",
       "      <td>0.928377</td>\n",
       "    </tr>\n",
       "    <tr>\n",
       "      <th>7</th>\n",
       "      <td>0.783645</td>\n",
       "      <td>0.831917</td>\n",
       "      <td>0.001666</td>\n",
       "      <td>0.513157</td>\n",
       "      <td>0.000698</td>\n",
       "    </tr>\n",
       "    <tr>\n",
       "      <th>8</th>\n",
       "      <td>0.554320</td>\n",
       "      <td>0.825650</td>\n",
       "      <td>0.784875</td>\n",
       "      <td>0.328719</td>\n",
       "      <td>0.299926</td>\n",
       "    </tr>\n",
       "    <tr>\n",
       "      <th>9</th>\n",
       "      <td>0.655986</td>\n",
       "      <td>0.555030</td>\n",
       "      <td>0.576323</td>\n",
       "      <td>0.716500</td>\n",
       "      <td>0.032025</td>\n",
       "    </tr>\n",
       "    <tr>\n",
       "      <th>10</th>\n",
       "      <td>0.736113</td>\n",
       "      <td>0.777795</td>\n",
       "      <td>0.799813</td>\n",
       "      <td>0.095870</td>\n",
       "      <td>0.291459</td>\n",
       "    </tr>\n",
       "    <tr>\n",
       "      <th>11</th>\n",
       "      <td>0.624895</td>\n",
       "      <td>0.024664</td>\n",
       "      <td>0.774638</td>\n",
       "      <td>0.795180</td>\n",
       "      <td>0.255724</td>\n",
       "    </tr>\n",
       "    <tr>\n",
       "      <th>12</th>\n",
       "      <td>0.917456</td>\n",
       "      <td>0.939141</td>\n",
       "      <td>0.027936</td>\n",
       "      <td>0.546937</td>\n",
       "      <td>0.779777</td>\n",
       "    </tr>\n",
       "    <tr>\n",
       "      <th>13</th>\n",
       "      <td>0.548614</td>\n",
       "      <td>0.357872</td>\n",
       "      <td>0.332619</td>\n",
       "      <td>0.182291</td>\n",
       "      <td>0.792791</td>\n",
       "    </tr>\n",
       "    <tr>\n",
       "      <th>14</th>\n",
       "      <td>0.542228</td>\n",
       "      <td>0.175936</td>\n",
       "      <td>0.122735</td>\n",
       "      <td>0.275763</td>\n",
       "      <td>0.564894</td>\n",
       "    </tr>\n",
       "    <tr>\n",
       "      <th>15</th>\n",
       "      <td>0.887094</td>\n",
       "      <td>0.470772</td>\n",
       "      <td>0.780117</td>\n",
       "      <td>0.122123</td>\n",
       "      <td>0.465924</td>\n",
       "    </tr>\n",
       "    <tr>\n",
       "      <th>16</th>\n",
       "      <td>0.102590</td>\n",
       "      <td>0.248557</td>\n",
       "      <td>0.576246</td>\n",
       "      <td>0.094114</td>\n",
       "      <td>0.707770</td>\n",
       "    </tr>\n",
       "    <tr>\n",
       "      <th>17</th>\n",
       "      <td>0.089621</td>\n",
       "      <td>0.415047</td>\n",
       "      <td>0.709962</td>\n",
       "      <td>0.124966</td>\n",
       "      <td>0.782526</td>\n",
       "    </tr>\n",
       "    <tr>\n",
       "      <th>18</th>\n",
       "      <td>0.747557</td>\n",
       "      <td>0.955645</td>\n",
       "      <td>0.779287</td>\n",
       "      <td>0.793340</td>\n",
       "      <td>0.581609</td>\n",
       "    </tr>\n",
       "    <tr>\n",
       "      <th>19</th>\n",
       "      <td>0.108527</td>\n",
       "      <td>0.319420</td>\n",
       "      <td>0.439814</td>\n",
       "      <td>0.164803</td>\n",
       "      <td>0.134217</td>\n",
       "    </tr>\n",
       "    <tr>\n",
       "      <th>20</th>\n",
       "      <td>0.963741</td>\n",
       "      <td>0.136837</td>\n",
       "      <td>0.617583</td>\n",
       "      <td>0.329892</td>\n",
       "      <td>0.286182</td>\n",
       "    </tr>\n",
       "    <tr>\n",
       "      <th>21</th>\n",
       "      <td>0.202289</td>\n",
       "      <td>0.547256</td>\n",
       "      <td>0.379552</td>\n",
       "      <td>0.059108</td>\n",
       "      <td>0.425861</td>\n",
       "    </tr>\n",
       "    <tr>\n",
       "      <th>22</th>\n",
       "      <td>0.235347</td>\n",
       "      <td>0.960305</td>\n",
       "      <td>0.917227</td>\n",
       "      <td>0.551674</td>\n",
       "      <td>0.960210</td>\n",
       "    </tr>\n",
       "    <tr>\n",
       "      <th>23</th>\n",
       "      <td>0.463736</td>\n",
       "      <td>0.757465</td>\n",
       "      <td>0.664057</td>\n",
       "      <td>0.498357</td>\n",
       "      <td>0.607515</td>\n",
       "    </tr>\n",
       "    <tr>\n",
       "      <th>24</th>\n",
       "      <td>0.231874</td>\n",
       "      <td>0.792857</td>\n",
       "      <td>0.716202</td>\n",
       "      <td>0.193750</td>\n",
       "      <td>0.109004</td>\n",
       "    </tr>\n",
       "    <tr>\n",
       "      <th>25</th>\n",
       "      <td>0.547800</td>\n",
       "      <td>0.018985</td>\n",
       "      <td>0.470335</td>\n",
       "      <td>0.876979</td>\n",
       "      <td>0.027352</td>\n",
       "    </tr>\n",
       "    <tr>\n",
       "      <th>26</th>\n",
       "      <td>0.844714</td>\n",
       "      <td>0.332575</td>\n",
       "      <td>0.868401</td>\n",
       "      <td>0.883607</td>\n",
       "      <td>0.901345</td>\n",
       "    </tr>\n",
       "    <tr>\n",
       "      <th>27</th>\n",
       "      <td>0.675896</td>\n",
       "      <td>0.149076</td>\n",
       "      <td>0.702126</td>\n",
       "      <td>0.678592</td>\n",
       "      <td>0.957421</td>\n",
       "    </tr>\n",
       "    <tr>\n",
       "      <th>28</th>\n",
       "      <td>0.777290</td>\n",
       "      <td>0.578937</td>\n",
       "      <td>0.167145</td>\n",
       "      <td>0.263346</td>\n",
       "      <td>0.214920</td>\n",
       "    </tr>\n",
       "    <tr>\n",
       "      <th>29</th>\n",
       "      <td>0.623160</td>\n",
       "      <td>0.003891</td>\n",
       "      <td>0.136815</td>\n",
       "      <td>0.989354</td>\n",
       "      <td>0.095379</td>\n",
       "    </tr>\n",
       "    <tr>\n",
       "      <th>30</th>\n",
       "      <td>0.501044</td>\n",
       "      <td>0.420851</td>\n",
       "      <td>0.326529</td>\n",
       "      <td>0.601144</td>\n",
       "      <td>0.181444</td>\n",
       "    </tr>\n",
       "    <tr>\n",
       "      <th>31</th>\n",
       "      <td>0.391504</td>\n",
       "      <td>0.884237</td>\n",
       "      <td>0.827835</td>\n",
       "      <td>0.679315</td>\n",
       "      <td>0.957426</td>\n",
       "    </tr>\n",
       "    <tr>\n",
       "      <th>32</th>\n",
       "      <td>0.328970</td>\n",
       "      <td>0.632194</td>\n",
       "      <td>0.697039</td>\n",
       "      <td>0.681094</td>\n",
       "      <td>0.092819</td>\n",
       "    </tr>\n",
       "    <tr>\n",
       "      <th>33</th>\n",
       "      <td>0.116050</td>\n",
       "      <td>0.610023</td>\n",
       "      <td>0.061767</td>\n",
       "      <td>0.066706</td>\n",
       "      <td>0.178428</td>\n",
       "    </tr>\n",
       "  </tbody>\n",
       "</table>\n",
       "</div>"
      ],
      "text/plain": [
       "              0         1         2         3         4\n",
       "0   1345.000000  0.382176  0.416435  0.385411  0.511607\n",
       "1      0.489687  0.716263  0.555075  0.580345  0.237824\n",
       "2      0.237829  0.643957  0.656876  0.416307  0.050364\n",
       "3      0.513053  0.396004  0.125597  0.501463  0.603623\n",
       "4      0.410567  0.422924  0.697424  0.564634  0.146348\n",
       "5      0.840483  0.722443  0.238997  0.323862  0.267311\n",
       "6      0.000304  0.041861  0.386897  0.955839  0.928377\n",
       "7      0.783645  0.831917  0.001666  0.513157  0.000698\n",
       "8      0.554320  0.825650  0.784875  0.328719  0.299926\n",
       "9      0.655986  0.555030  0.576323  0.716500  0.032025\n",
       "10     0.736113  0.777795  0.799813  0.095870  0.291459\n",
       "11     0.624895  0.024664  0.774638  0.795180  0.255724\n",
       "12     0.917456  0.939141  0.027936  0.546937  0.779777\n",
       "13     0.548614  0.357872  0.332619  0.182291  0.792791\n",
       "14     0.542228  0.175936  0.122735  0.275763  0.564894\n",
       "15     0.887094  0.470772  0.780117  0.122123  0.465924\n",
       "16     0.102590  0.248557  0.576246  0.094114  0.707770\n",
       "17     0.089621  0.415047  0.709962  0.124966  0.782526\n",
       "18     0.747557  0.955645  0.779287  0.793340  0.581609\n",
       "19     0.108527  0.319420  0.439814  0.164803  0.134217\n",
       "20     0.963741  0.136837  0.617583  0.329892  0.286182\n",
       "21     0.202289  0.547256  0.379552  0.059108  0.425861\n",
       "22     0.235347  0.960305  0.917227  0.551674  0.960210\n",
       "23     0.463736  0.757465  0.664057  0.498357  0.607515\n",
       "24     0.231874  0.792857  0.716202  0.193750  0.109004\n",
       "25     0.547800  0.018985  0.470335  0.876979  0.027352\n",
       "26     0.844714  0.332575  0.868401  0.883607  0.901345\n",
       "27     0.675896  0.149076  0.702126  0.678592  0.957421\n",
       "28     0.777290  0.578937  0.167145  0.263346  0.214920\n",
       "29     0.623160  0.003891  0.136815  0.989354  0.095379\n",
       "30     0.501044  0.420851  0.326529  0.601144  0.181444\n",
       "31     0.391504  0.884237  0.827835  0.679315  0.957426\n",
       "32     0.328970  0.632194  0.697039  0.681094  0.092819\n",
       "33     0.116050  0.610023  0.061767  0.066706  0.178428"
      ]
     },
     "execution_count": 153,
     "metadata": {},
     "output_type": "execute_result"
    }
   ],
   "source": [
    "random_df.sort_index()"
   ]
  },
  {
   "cell_type": "code",
   "execution_count": 156,
   "id": "585aef18",
   "metadata": {},
   "outputs": [],
   "source": [
    "random_df.columns = list('ABCDE')"
   ]
  },
  {
   "cell_type": "code",
   "execution_count": 157,
   "id": "f97fa2ed",
   "metadata": {},
   "outputs": [
    {
     "data": {
      "text/plain": [
       "0     False\n",
       "1     False\n",
       "2     False\n",
       "3     False\n",
       "4     False\n",
       "5     False\n",
       "6     False\n",
       "7     False\n",
       "8     False\n",
       "9     False\n",
       "10    False\n",
       "11    False\n",
       "12    False\n",
       "13    False\n",
       "14    False\n",
       "15    False\n",
       "16    False\n",
       "17    False\n",
       "18    False\n",
       "19    False\n",
       "20    False\n",
       "21    False\n",
       "22    False\n",
       "23    False\n",
       "24    False\n",
       "25    False\n",
       "26    False\n",
       "27    False\n",
       "28    False\n",
       "29    False\n",
       "30    False\n",
       "31    False\n",
       "32    False\n",
       "33    False\n",
       "Name: A, dtype: bool"
      ]
     },
     "execution_count": 157,
     "metadata": {},
     "output_type": "execute_result"
    }
   ],
   "source": [
    "random_df['A'].isnull()"
   ]
  },
  {
   "cell_type": "code",
   "execution_count": 160,
   "id": "f67b19cc",
   "metadata": {},
   "outputs": [
    {
     "data": {
      "text/html": [
       "<div>\n",
       "<style scoped>\n",
       "    .dataframe tbody tr th:only-of-type {\n",
       "        vertical-align: middle;\n",
       "    }\n",
       "\n",
       "    .dataframe tbody tr th {\n",
       "        vertical-align: top;\n",
       "    }\n",
       "\n",
       "    .dataframe thead th {\n",
       "        text-align: right;\n",
       "    }\n",
       "</style>\n",
       "<table border=\"1\" class=\"dataframe\">\n",
       "  <thead>\n",
       "    <tr style=\"text-align: right;\">\n",
       "      <th></th>\n",
       "      <th>A</th>\n",
       "      <th>B</th>\n",
       "      <th>C</th>\n",
       "      <th>D</th>\n",
       "      <th>E</th>\n",
       "    </tr>\n",
       "  </thead>\n",
       "  <tbody>\n",
       "    <tr>\n",
       "      <th>0</th>\n",
       "      <td>1345.000000</td>\n",
       "      <td>0.382176</td>\n",
       "      <td>0.416435</td>\n",
       "      <td>0.385411</td>\n",
       "      <td>0.511607</td>\n",
       "    </tr>\n",
       "    <tr>\n",
       "      <th>1</th>\n",
       "      <td>0.489687</td>\n",
       "      <td>0.716263</td>\n",
       "      <td>0.555075</td>\n",
       "      <td>0.580345</td>\n",
       "      <td>0.237824</td>\n",
       "    </tr>\n",
       "    <tr>\n",
       "      <th>2</th>\n",
       "      <td>0.237829</td>\n",
       "      <td>0.643957</td>\n",
       "      <td>0.656876</td>\n",
       "      <td>0.416307</td>\n",
       "      <td>0.050364</td>\n",
       "    </tr>\n",
       "    <tr>\n",
       "      <th>3</th>\n",
       "      <td>0.513053</td>\n",
       "      <td>0.396004</td>\n",
       "      <td>0.125597</td>\n",
       "      <td>0.501463</td>\n",
       "      <td>0.603623</td>\n",
       "    </tr>\n",
       "    <tr>\n",
       "      <th>4</th>\n",
       "      <td>0.410567</td>\n",
       "      <td>0.422924</td>\n",
       "      <td>0.697424</td>\n",
       "      <td>0.564634</td>\n",
       "      <td>0.146348</td>\n",
       "    </tr>\n",
       "    <tr>\n",
       "      <th>5</th>\n",
       "      <td>0.840483</td>\n",
       "      <td>0.722443</td>\n",
       "      <td>0.238997</td>\n",
       "      <td>0.323862</td>\n",
       "      <td>0.267311</td>\n",
       "    </tr>\n",
       "    <tr>\n",
       "      <th>6</th>\n",
       "      <td>0.000304</td>\n",
       "      <td>0.041861</td>\n",
       "      <td>0.386897</td>\n",
       "      <td>0.955839</td>\n",
       "      <td>0.928377</td>\n",
       "    </tr>\n",
       "    <tr>\n",
       "      <th>7</th>\n",
       "      <td>0.783645</td>\n",
       "      <td>0.831917</td>\n",
       "      <td>0.001666</td>\n",
       "      <td>0.513157</td>\n",
       "      <td>0.000698</td>\n",
       "    </tr>\n",
       "    <tr>\n",
       "      <th>8</th>\n",
       "      <td>0.554320</td>\n",
       "      <td>0.825650</td>\n",
       "      <td>0.784875</td>\n",
       "      <td>0.328719</td>\n",
       "      <td>0.299926</td>\n",
       "    </tr>\n",
       "    <tr>\n",
       "      <th>9</th>\n",
       "      <td>0.655986</td>\n",
       "      <td>0.555030</td>\n",
       "      <td>0.576323</td>\n",
       "      <td>0.716500</td>\n",
       "      <td>0.032025</td>\n",
       "    </tr>\n",
       "    <tr>\n",
       "      <th>10</th>\n",
       "      <td>0.736113</td>\n",
       "      <td>0.777795</td>\n",
       "      <td>0.799813</td>\n",
       "      <td>0.095870</td>\n",
       "      <td>0.291459</td>\n",
       "    </tr>\n",
       "    <tr>\n",
       "      <th>11</th>\n",
       "      <td>0.624895</td>\n",
       "      <td>0.024664</td>\n",
       "      <td>0.774638</td>\n",
       "      <td>0.795180</td>\n",
       "      <td>0.255724</td>\n",
       "    </tr>\n",
       "    <tr>\n",
       "      <th>12</th>\n",
       "      <td>0.917456</td>\n",
       "      <td>0.939141</td>\n",
       "      <td>0.027936</td>\n",
       "      <td>0.546937</td>\n",
       "      <td>0.779777</td>\n",
       "    </tr>\n",
       "    <tr>\n",
       "      <th>13</th>\n",
       "      <td>0.548614</td>\n",
       "      <td>0.357872</td>\n",
       "      <td>0.332619</td>\n",
       "      <td>0.182291</td>\n",
       "      <td>0.792791</td>\n",
       "    </tr>\n",
       "    <tr>\n",
       "      <th>14</th>\n",
       "      <td>0.542228</td>\n",
       "      <td>0.175936</td>\n",
       "      <td>0.122735</td>\n",
       "      <td>0.275763</td>\n",
       "      <td>0.564894</td>\n",
       "    </tr>\n",
       "    <tr>\n",
       "      <th>15</th>\n",
       "      <td>0.887094</td>\n",
       "      <td>0.470772</td>\n",
       "      <td>0.780117</td>\n",
       "      <td>0.122123</td>\n",
       "      <td>0.465924</td>\n",
       "    </tr>\n",
       "    <tr>\n",
       "      <th>16</th>\n",
       "      <td>0.102590</td>\n",
       "      <td>0.248557</td>\n",
       "      <td>0.576246</td>\n",
       "      <td>0.094114</td>\n",
       "      <td>0.707770</td>\n",
       "    </tr>\n",
       "    <tr>\n",
       "      <th>17</th>\n",
       "      <td>0.089621</td>\n",
       "      <td>0.415047</td>\n",
       "      <td>0.709962</td>\n",
       "      <td>0.124966</td>\n",
       "      <td>0.782526</td>\n",
       "    </tr>\n",
       "    <tr>\n",
       "      <th>18</th>\n",
       "      <td>0.747557</td>\n",
       "      <td>0.955645</td>\n",
       "      <td>0.779287</td>\n",
       "      <td>0.793340</td>\n",
       "      <td>0.581609</td>\n",
       "    </tr>\n",
       "    <tr>\n",
       "      <th>19</th>\n",
       "      <td>0.108527</td>\n",
       "      <td>0.319420</td>\n",
       "      <td>0.439814</td>\n",
       "      <td>0.164803</td>\n",
       "      <td>0.134217</td>\n",
       "    </tr>\n",
       "    <tr>\n",
       "      <th>20</th>\n",
       "      <td>0.963741</td>\n",
       "      <td>0.136837</td>\n",
       "      <td>0.617583</td>\n",
       "      <td>0.329892</td>\n",
       "      <td>0.286182</td>\n",
       "    </tr>\n",
       "    <tr>\n",
       "      <th>21</th>\n",
       "      <td>0.202289</td>\n",
       "      <td>0.547256</td>\n",
       "      <td>0.379552</td>\n",
       "      <td>0.059108</td>\n",
       "      <td>0.425861</td>\n",
       "    </tr>\n",
       "    <tr>\n",
       "      <th>22</th>\n",
       "      <td>0.235347</td>\n",
       "      <td>0.960305</td>\n",
       "      <td>0.917227</td>\n",
       "      <td>0.551674</td>\n",
       "      <td>0.960210</td>\n",
       "    </tr>\n",
       "    <tr>\n",
       "      <th>23</th>\n",
       "      <td>0.463736</td>\n",
       "      <td>0.757465</td>\n",
       "      <td>0.664057</td>\n",
       "      <td>0.498357</td>\n",
       "      <td>0.607515</td>\n",
       "    </tr>\n",
       "    <tr>\n",
       "      <th>24</th>\n",
       "      <td>0.231874</td>\n",
       "      <td>0.792857</td>\n",
       "      <td>0.716202</td>\n",
       "      <td>0.193750</td>\n",
       "      <td>0.109004</td>\n",
       "    </tr>\n",
       "    <tr>\n",
       "      <th>25</th>\n",
       "      <td>0.547800</td>\n",
       "      <td>0.018985</td>\n",
       "      <td>0.470335</td>\n",
       "      <td>0.876979</td>\n",
       "      <td>0.027352</td>\n",
       "    </tr>\n",
       "    <tr>\n",
       "      <th>26</th>\n",
       "      <td>0.844714</td>\n",
       "      <td>0.332575</td>\n",
       "      <td>0.868401</td>\n",
       "      <td>0.883607</td>\n",
       "      <td>0.901345</td>\n",
       "    </tr>\n",
       "    <tr>\n",
       "      <th>27</th>\n",
       "      <td>0.675896</td>\n",
       "      <td>0.149076</td>\n",
       "      <td>0.702126</td>\n",
       "      <td>0.678592</td>\n",
       "      <td>0.957421</td>\n",
       "    </tr>\n",
       "    <tr>\n",
       "      <th>28</th>\n",
       "      <td>0.777290</td>\n",
       "      <td>0.578937</td>\n",
       "      <td>0.167145</td>\n",
       "      <td>0.263346</td>\n",
       "      <td>0.214920</td>\n",
       "    </tr>\n",
       "    <tr>\n",
       "      <th>29</th>\n",
       "      <td>0.623160</td>\n",
       "      <td>0.003891</td>\n",
       "      <td>0.136815</td>\n",
       "      <td>0.989354</td>\n",
       "      <td>0.095379</td>\n",
       "    </tr>\n",
       "    <tr>\n",
       "      <th>30</th>\n",
       "      <td>0.501044</td>\n",
       "      <td>0.420851</td>\n",
       "      <td>0.326529</td>\n",
       "      <td>0.601144</td>\n",
       "      <td>0.181444</td>\n",
       "    </tr>\n",
       "    <tr>\n",
       "      <th>31</th>\n",
       "      <td>0.391504</td>\n",
       "      <td>0.884237</td>\n",
       "      <td>0.827835</td>\n",
       "      <td>0.679315</td>\n",
       "      <td>0.957426</td>\n",
       "    </tr>\n",
       "    <tr>\n",
       "      <th>32</th>\n",
       "      <td>0.328970</td>\n",
       "      <td>0.632194</td>\n",
       "      <td>0.697039</td>\n",
       "      <td>0.681094</td>\n",
       "      <td>0.092819</td>\n",
       "    </tr>\n",
       "    <tr>\n",
       "      <th>33</th>\n",
       "      <td>0.116050</td>\n",
       "      <td>0.610023</td>\n",
       "      <td>0.061767</td>\n",
       "      <td>0.066706</td>\n",
       "      <td>0.178428</td>\n",
       "    </tr>\n",
       "  </tbody>\n",
       "</table>\n",
       "</div>"
      ],
      "text/plain": [
       "              A         B         C         D         E\n",
       "0   1345.000000  0.382176  0.416435  0.385411  0.511607\n",
       "1      0.489687  0.716263  0.555075  0.580345  0.237824\n",
       "2      0.237829  0.643957  0.656876  0.416307  0.050364\n",
       "3      0.513053  0.396004  0.125597  0.501463  0.603623\n",
       "4      0.410567  0.422924  0.697424  0.564634  0.146348\n",
       "5      0.840483  0.722443  0.238997  0.323862  0.267311\n",
       "6      0.000304  0.041861  0.386897  0.955839  0.928377\n",
       "7      0.783645  0.831917  0.001666  0.513157  0.000698\n",
       "8      0.554320  0.825650  0.784875  0.328719  0.299926\n",
       "9      0.655986  0.555030  0.576323  0.716500  0.032025\n",
       "10     0.736113  0.777795  0.799813  0.095870  0.291459\n",
       "11     0.624895  0.024664  0.774638  0.795180  0.255724\n",
       "12     0.917456  0.939141  0.027936  0.546937  0.779777\n",
       "13     0.548614  0.357872  0.332619  0.182291  0.792791\n",
       "14     0.542228  0.175936  0.122735  0.275763  0.564894\n",
       "15     0.887094  0.470772  0.780117  0.122123  0.465924\n",
       "16     0.102590  0.248557  0.576246  0.094114  0.707770\n",
       "17     0.089621  0.415047  0.709962  0.124966  0.782526\n",
       "18     0.747557  0.955645  0.779287  0.793340  0.581609\n",
       "19     0.108527  0.319420  0.439814  0.164803  0.134217\n",
       "20     0.963741  0.136837  0.617583  0.329892  0.286182\n",
       "21     0.202289  0.547256  0.379552  0.059108  0.425861\n",
       "22     0.235347  0.960305  0.917227  0.551674  0.960210\n",
       "23     0.463736  0.757465  0.664057  0.498357  0.607515\n",
       "24     0.231874  0.792857  0.716202  0.193750  0.109004\n",
       "25     0.547800  0.018985  0.470335  0.876979  0.027352\n",
       "26     0.844714  0.332575  0.868401  0.883607  0.901345\n",
       "27     0.675896  0.149076  0.702126  0.678592  0.957421\n",
       "28     0.777290  0.578937  0.167145  0.263346  0.214920\n",
       "29     0.623160  0.003891  0.136815  0.989354  0.095379\n",
       "30     0.501044  0.420851  0.326529  0.601144  0.181444\n",
       "31     0.391504  0.884237  0.827835  0.679315  0.957426\n",
       "32     0.328970  0.632194  0.697039  0.681094  0.092819\n",
       "33     0.116050  0.610023  0.061767  0.066706  0.178428"
      ]
     },
     "execution_count": 160,
     "metadata": {},
     "output_type": "execute_result"
    }
   ],
   "source": [
    "random_df"
   ]
  },
  {
   "cell_type": "code",
   "execution_count": 162,
   "id": "ff9de8ef",
   "metadata": {},
   "outputs": [
    {
     "data": {
      "text/plain": [
       "<bound method NDFrame.head of               A         B         C         D         E\n",
       "0   1345.000000  0.382176  0.416435  0.385411  0.511607\n",
       "1      0.489687  0.716263  0.555075  0.580345  0.237824\n",
       "2      0.237829  0.643957  0.656876  0.416307  0.050364\n",
       "3      0.513053  0.396004  0.125597  0.501463  0.603623\n",
       "4      0.410567  0.422924  0.697424  0.564634  0.146348\n",
       "5      0.840483  0.722443  0.238997  0.323862  0.267311\n",
       "6      0.000304  0.041861  0.386897  0.955839  0.928377\n",
       "7      0.783645  0.831917  0.001666  0.513157  0.000698\n",
       "8      0.554320  0.825650  0.784875  0.328719  0.299926\n",
       "9      0.655986  0.555030  0.576323  0.716500  0.032025\n",
       "10     0.736113  0.777795  0.799813  0.095870  0.291459\n",
       "11     0.624895  0.024664  0.774638  0.795180  0.255724\n",
       "12     0.917456  0.939141  0.027936  0.546937  0.779777\n",
       "13     0.548614  0.357872  0.332619  0.182291  0.792791\n",
       "14     0.542228  0.175936  0.122735  0.275763  0.564894\n",
       "15     0.887094  0.470772  0.780117  0.122123  0.465924\n",
       "16     0.102590  0.248557  0.576246  0.094114  0.707770\n",
       "17     0.089621  0.415047  0.709962  0.124966  0.782526\n",
       "18     0.747557  0.955645  0.779287  0.793340  0.581609\n",
       "19     0.108527  0.319420  0.439814  0.164803  0.134217\n",
       "20     0.963741  0.136837  0.617583  0.329892  0.286182\n",
       "21     0.202289  0.547256  0.379552  0.059108  0.425861\n",
       "22     0.235347  0.960305  0.917227  0.551674  0.960210\n",
       "23     0.463736  0.757465  0.664057  0.498357  0.607515\n",
       "24     0.231874  0.792857  0.716202  0.193750  0.109004\n",
       "25     0.547800  0.018985  0.470335  0.876979  0.027352\n",
       "26     0.844714  0.332575  0.868401  0.883607  0.901345\n",
       "27     0.675896  0.149076  0.702126  0.678592  0.957421\n",
       "28     0.777290  0.578937  0.167145  0.263346  0.214920\n",
       "29     0.623160  0.003891  0.136815  0.989354  0.095379\n",
       "30     0.501044  0.420851  0.326529  0.601144  0.181444\n",
       "31     0.391504  0.884237  0.827835  0.679315  0.957426\n",
       "32     0.328970  0.632194  0.697039  0.681094  0.092819\n",
       "33     0.116050  0.610023  0.061767  0.066706  0.178428>"
      ]
     },
     "execution_count": 162,
     "metadata": {},
     "output_type": "execute_result"
    }
   ],
   "source": [
    "random_df.head"
   ]
  },
  {
   "cell_type": "code",
   "execution_count": null,
   "id": "88666e5d",
   "metadata": {},
   "outputs": [],
   "source": []
  },
  {
   "cell_type": "code",
   "execution_count": null,
   "id": "648e35c1",
   "metadata": {},
   "outputs": [],
   "source": []
  }
 ],
 "metadata": {
  "kernelspec": {
   "display_name": "Python 3",
   "language": "python",
   "name": "python3"
  },
  "language_info": {
   "codemirror_mode": {
    "name": "ipython",
    "version": 3
   },
   "file_extension": ".py",
   "mimetype": "text/x-python",
   "name": "python",
   "nbconvert_exporter": "python",
   "pygments_lexer": "ipython3",
   "version": "3.8.8"
  }
 },
 "nbformat": 4,
 "nbformat_minor": 5
}
